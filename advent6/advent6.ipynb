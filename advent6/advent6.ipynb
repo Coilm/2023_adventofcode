{
 "cells": [
  {
   "cell_type": "code",
   "execution_count": 52,
   "metadata": {},
   "outputs": [],
   "source": [
    "with open('advent6.txt', 'r') as f:\n",
    "    filedata = f.read()"
   ]
  },
  {
   "cell_type": "markdown",
   "metadata": {},
   "source": [
    "# PART 1"
   ]
  },
  {
   "cell_type": "code",
   "execution_count": 53,
   "metadata": {},
   "outputs": [],
   "source": [
    "with open('advent6.txt', 'r') as f:\n",
    "    filedata = f.read()\n",
    "\n",
    "times, distances = filedata.split('\\n')\n",
    "times = times.split(':')[1].split(' ')\n",
    "times = [int(t) for t in times if t != '']\n",
    "\n",
    "distances = distances.split(':')[1].split(' ')\n",
    "distances = [int(d) for d in distances if d != '']\n",
    "\n",
    "total = 1\n",
    "\n",
    "for time, distance in zip(times, distances):\n",
    "    success = 0\n",
    "    speed = 0\n",
    "    for second in range(1, time):\n",
    "        speed += 1\n",
    "        if speed * (time - second) > distance:\n",
    "            success += 1\n",
    "    total *= success\n",
    "\n",
    "\n",
    "print(total)"
   ]
  },
  {
   "cell_type": "markdown",
   "metadata": {},
   "source": [
    "# PART 2"
   ]
  },
  {
   "cell_type": "code",
   "execution_count": 65,
   "metadata": {},
   "outputs": [],
   "source": [
    "times, distances = filedata.split('\\n')\n",
    "times = times.split(':')[1].split(' ')\n",
    "time = int(''.join(times))\n",
    "\n",
    "distances = distances.split(':')[1].split(' ')\n",
    "distance = int(''.join(distances))"
   ]
  },
  {
   "cell_type": "code",
   "execution_count": 66,
   "metadata": {},
   "outputs": [
    {
     "name": "stdout",
     "output_type": "stream",
     "text": [
      "32583852\n"
     ]
    }
   ],
   "source": [
    "success = 0\n",
    "speed = 0    \n",
    "for second in range(1, time):\n",
    "    speed += 1\n",
    "    if speed * (time - second) > distance:\n",
    "        success += 1\n",
    "\n",
    "print(success)"
   ]
  },
  {
   "cell_type": "code",
   "execution_count": null,
   "metadata": {},
   "outputs": [],
   "source": []
  }
 ],
 "metadata": {
  "kernelspec": {
   "display_name": "py310",
   "language": "python",
   "name": "python3"
  },
  "language_info": {
   "codemirror_mode": {
    "name": "ipython",
    "version": 3
   },
   "file_extension": ".py",
   "mimetype": "text/x-python",
   "name": "python",
   "nbconvert_exporter": "python",
   "pygments_lexer": "ipython3",
   "version": "3.10.10"
  }
 },
 "nbformat": 4,
 "nbformat_minor": 2
}
